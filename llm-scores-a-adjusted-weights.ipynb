{
 "cells": [
  {
   "cell_type": "markdown",
   "metadata": {
    "papermill": {
     "duration": 0.017921,
     "end_time": "2023-12-12T12:44:48.731519",
     "exception": false,
     "start_time": "2023-12-12T12:44:48.713598",
     "status": "completed"
    },
    "tags": []
   },
   "source": [
    "<img src=\"https://github.com/FarzadNekouee/YOLOv8_Traffic_Density_Estimation/blob/master/images/cover_image.png?raw=true\" width=\"2400\">"
   ]
  },
  {
   "cell_type": "code",
   "execution_count": 2,
   "metadata": {
    "execution": {
     "iopub.execute_input": "2025-04-19T06:42:08.056212Z",
     "iopub.status.busy": "2025-04-19T06:42:08.055983Z",
     "iopub.status.idle": "2025-04-19T06:42:16.622568Z",
     "shell.execute_reply": "2025-04-19T06:42:16.621426Z",
     "shell.execute_reply.started": "2025-04-19T06:42:08.056190Z"
    },
    "trusted": true
   },
   "outputs": [],
   "source": [
    "# Install YOLOv8\n",
    "!pip install -q ultralytics"
   ]
  },
  {
   "cell_type": "code",
   "execution_count": 1,
   "metadata": {
    "execution": {
     "iopub.execute_input": "2025-04-19T06:42:16.624852Z",
     "iopub.status.busy": "2025-04-19T06:42:16.624567Z",
     "iopub.status.idle": "2025-04-19T06:42:16.639099Z",
     "shell.execute_reply": "2025-04-19T06:42:16.638315Z",
     "shell.execute_reply.started": "2025-04-19T06:42:16.624826Z"
    },
    "trusted": true
   },
   "outputs": [
    {
     "name": "stdout",
     "output_type": "stream",
     "text": [
      "Route_1 has 0 images:\n",
      "Route_2 has 0 images:\n",
      "Route_3 has 0 images:\n"
     ]
    }
   ],
   "source": [
    "import os\n",
    "import random\n",
    "from glob import glob\n",
    "\n",
    "# Set your dataset base directory\n",
    "base_dir = \"/kaggle/input/top-view-vehicle-detection-image-dataset/Vehicle_Detection_Image_Dataset\"\n",
    "\n",
    "# Get all image paths from train and valid folders\n",
    "train_images = glob(os.path.join(base_dir, \"train/images\", \"*.jpg\"))\n",
    "valid_images = glob(os.path.join(base_dir, \"valid/images\", \"*.jpg\"))\n",
    "\n",
    "# Combine and shuffle images\n",
    "all_images = train_images + valid_images\n",
    "random.shuffle(all_images)\n",
    "\n",
    "# Create dummy routes with 5 images each\n",
    "num_routes = 3\n",
    "images_per_route = 5\n",
    "dummy_routes = {}\n",
    "\n",
    "for i in range(num_routes):\n",
    "    route_name = f\"Route_{i+1}\"\n",
    "    dummy_routes[route_name] = all_images[i * images_per_route:(i + 1) * images_per_route]\n",
    "\n",
    "# Print route-to-images mapping\n",
    "for route, imgs in dummy_routes.items():\n",
    "    print(f\"{route} has {len(imgs)} images:\")\n",
    "    for img in imgs:\n",
    "        print(f\"  - {img}\")"
   ]
  },
  {
   "cell_type": "code",
   "execution_count": 3,
   "metadata": {
    "execution": {
     "iopub.execute_input": "2025-04-19T06:42:16.640335Z",
     "iopub.status.busy": "2025-04-19T06:42:16.640096Z",
     "iopub.status.idle": "2025-04-19T06:42:31.209834Z",
     "shell.execute_reply": "2025-04-19T06:42:31.209090Z",
     "shell.execute_reply.started": "2025-04-19T06:42:16.640314Z"
    },
    "trusted": true
   },
   "outputs": [
    {
     "name": "stdout",
     "output_type": "stream",
     "text": [
      "Creating new Ultralytics Settings v0.0.6 file ✅ \n",
      "View Ultralytics Settings with 'yolo settings' or at '/Users/yash.honrao/Library/Application Support/Ultralytics/settings.json'\n",
      "Update Settings with 'yolo settings key=value', i.e. 'yolo settings runs_dir=path/to/dir'. For help see https://docs.ultralytics.com/quickstart/#ultralytics-settings.\n",
      "Downloading https://github.com/ultralytics/assets/releases/download/v8.3.0/yolov8n.pt to 'yolov8n.pt'...\n",
      "⚠️ Download failure, retrying 1/3 https://github.com/ultralytics/assets/releases/download/v8.3.0/yolov8n.pt...\n"
     ]
    },
    {
     "name": "stderr",
     "output_type": "stream",
     "text": [
      "######################################################################## 100.0%\n"
     ]
    },
    {
     "name": "stdout",
     "output_type": "stream",
     "text": [
      "\n",
      "--- YOLO Class Frequencies ---\n",
      "\n",
      "--- Recommended Risk Weights ---\n"
     ]
    }
   ],
   "source": [
    "import warnings\n",
    "warnings.filterwarnings('ignore')\n",
    "\n",
    "# Required libraries\n",
    "import os\n",
    "import cv2\n",
    "from glob import glob\n",
    "from collections import Counter\n",
    "import matplotlib.pyplot as plt\n",
    "from ultralytics import YOLO\n",
    "\n",
    "# Load YOLOv8 model\n",
    "model = YOLO('yolov8n.pt')\n",
    "\n",
    "# # Set image folder paths\n",
    "# base_dir = \"/kaggle/input/top-view-vehicle-detection-image-dataset/Vehicle_Detection_Image_Dataset\"\n",
    "# train_imgs = glob(os.path.join(base_dir, \"train/images\", \"*.jpg\"))\n",
    "# valid_imgs = glob(os.path.join(base_dir, \"valid/images\", \"*.jpg\"))\n",
    "# all_imgs = train_imgs + valid_imgs\n",
    "\n",
    "# Analyze class frequencies\n",
    "class_counter = Counter()\n",
    "\n",
    "for img_path in all_images:\n",
    "    try:\n",
    "        results = model(img_path, imgsz=640, conf=0.5)\n",
    "        detections = results[0].boxes.cls.cpu().numpy()\n",
    "        class_counter.update(map(int, detections))\n",
    "    except:\n",
    "        print(f\"Error processing image: {img_path}\")\n",
    "\n",
    "# Print class frequencies\n",
    "print(\"\\n--- YOLO Class Frequencies ---\")\n",
    "for cls_id, count in class_counter.items():\n",
    "    print(f\"Class {cls_id}: {count} detections\")\n",
    "\n",
    "# Normalize and recommend weights (0.0 to 5.0 scale)\n",
    "max_count = max(class_counter.values()) if class_counter else 1\n",
    "recommended_weights = {cls_id: round(5.0 * (count / max_count), 2) for cls_id, count in class_counter.items()}\n",
    "\n",
    "print(\"\\n--- Recommended Risk Weights ---\")\n",
    "for cls_id, weight in recommended_weights.items():\n",
    "    print(f\"Class {cls_id}: Weight = {weight}\")"
   ]
  },
  {
   "cell_type": "code",
   "execution_count": 4,
   "metadata": {
    "execution": {
     "iopub.execute_input": "2025-04-19T06:42:31.211601Z",
     "iopub.status.busy": "2025-04-19T06:42:31.211104Z",
     "iopub.status.idle": "2025-04-19T06:42:31.256256Z",
     "shell.execute_reply": "2025-04-19T06:42:31.255473Z",
     "shell.execute_reply.started": "2025-04-19T06:42:31.211567Z"
    },
    "trusted": true
   },
   "outputs": [],
   "source": [
    "# Assuming you've already run the auto-analysis and now have `recommended_weights`\n",
    "\n",
    "# Sample fallback if you want to test manually\n",
    "# recommended_weights = {\n",
    "#     0: 4.5,  # pedestrian\n",
    "#     1: 3.0,  # bicycle\n",
    "#     2: 2.0,  # car\n",
    "#     3: 3.2,  # motorcycle\n",
    "#     5: 3.8,  # bus\n",
    "#     7: 3.6   # truck\n",
    "# }\n",
    "\n",
    "from collections import defaultdict\n",
    "from ultralytics import YOLO\n",
    "\n",
    "# Load YOLO model\n",
    "model = YOLO('yolov8n.pt')\n",
    "\n",
    "# Set congestion-related classes\n",
    "vehicle_classes = [2, 3, 5, 7]  # car, motorcycle, bus, truck\n",
    "\n",
    "# Function to compute scores\n",
    "def get_scores_dynamic(model, image_paths_by_route, risk_weights):\n",
    "    scores = {}\n",
    "\n",
    "    for route_name, image_paths in image_paths_by_route.items():\n",
    "        total_vehicles = 0\n",
    "        total_risk = 0.0\n",
    "\n",
    "        for img_path in image_paths:\n",
    "            results = model(img_path, imgsz=640, conf=0.5)\n",
    "            detections = results[0].boxes.cls.cpu().numpy()\n",
    "\n",
    "            for cls_id in detections:\n",
    "                cls_id = int(cls_id)\n",
    "                if cls_id in vehicle_classes:\n",
    "                    total_vehicles += 1\n",
    "                if cls_id in risk_weights:\n",
    "                    total_risk += risk_weights[cls_id]\n",
    "\n",
    "        scores[route_name] = {\n",
    "            'congestion_score': total_vehicles,\n",
    "            'risk_score': round(total_risk, 2)\n",
    "        }\n",
    "\n",
    "    return scores\n",
    "\n",
    "# Example:\n",
    "# image_paths_by_route = {\n",
    "#     'Route_1': ['/path/to/img1.jpg', '/path/to/img2.jpg'],\n",
    "#     'Route_2': ['/path/to/img3.jpg', '/path/to/img4.jpg'],\n",
    "# }\n",
    "# scores = get_scores_dynamic(model, image_paths_by_route, recommended_weights)\n",
    "# for route, data in scores.items():\n",
    "#     print(f\"{route} → Congestion: {data['congestion_score']}, Risk: {data['risk_score']}\")\n"
   ]
  },
  {
   "cell_type": "code",
   "execution_count": 5,
   "metadata": {
    "execution": {
     "iopub.execute_input": "2025-04-19T06:42:31.259534Z",
     "iopub.status.busy": "2025-04-19T06:42:31.259301Z",
     "iopub.status.idle": "2025-04-19T06:42:31.583605Z",
     "shell.execute_reply": "2025-04-19T06:42:31.582770Z",
     "shell.execute_reply.started": "2025-04-19T06:42:31.259515Z"
    },
    "trusted": true
   },
   "outputs": [
    {
     "name": "stdout",
     "output_type": "stream",
     "text": [
      "\n",
      "image 1/1 /kaggle/input/top-view-vehicle-detection-image-dataset/Vehicle_Detection_Image_Dataset/train/images/12_mp4-7_jpg.rf.3772fccf9706393c58387ed585727446.jpg: 640x640 1 car, 5.0ms\n",
      "Speed: 1.4ms preprocess, 5.0ms inference, 1.1ms postprocess per image at shape (1, 3, 640, 640)\n",
      "\n",
      "image 1/1 /kaggle/input/top-view-vehicle-detection-image-dataset/Vehicle_Detection_Image_Dataset/train/images/14_mp4-18_jpg.rf.de728b4158742cd5145f798bb8f28f1f.jpg: 640x640 4 cars, 4.7ms\n",
      "Speed: 1.3ms preprocess, 4.7ms inference, 0.9ms postprocess per image at shape (1, 3, 640, 640)\n",
      "\n",
      "image 1/1 /kaggle/input/top-view-vehicle-detection-image-dataset/Vehicle_Detection_Image_Dataset/train/images/5_mp4-23_jpg.rf.1af6945901aadab59e9ee210b568c1cb.jpg: 640x640 1 person, 17 cars, 4.8ms\n",
      "Speed: 1.2ms preprocess, 4.8ms inference, 1.1ms postprocess per image at shape (1, 3, 640, 640)\n",
      "\n",
      "image 1/1 /kaggle/input/top-view-vehicle-detection-image-dataset/Vehicle_Detection_Image_Dataset/train/images/6_mp4-32_jpg.rf.2fbf5f14e51e9a234d170de78381cfbb.jpg: 640x640 (no detections), 4.9ms\n",
      "Speed: 1.2ms preprocess, 4.9ms inference, 0.4ms postprocess per image at shape (1, 3, 640, 640)\n",
      "\n",
      "image 1/1 /kaggle/input/top-view-vehicle-detection-image-dataset/Vehicle_Detection_Image_Dataset/train/images/test_mp4-4_jpg.rf.a4ab418c6cdcc81f49484a8aa098b691.jpg: 640x640 3 cars, 1 bus, 4.8ms\n",
      "Speed: 1.2ms preprocess, 4.8ms inference, 1.0ms postprocess per image at shape (1, 3, 640, 640)\n",
      "\n",
      "image 1/1 /kaggle/input/top-view-vehicle-detection-image-dataset/Vehicle_Detection_Image_Dataset/train/images/11_mp4-14_jpg.rf.0d47483007a70d056747d619748e0e0a.jpg: 640x640 4 cars, 1 bus, 4.7ms\n",
      "Speed: 1.2ms preprocess, 4.7ms inference, 0.9ms postprocess per image at shape (1, 3, 640, 640)\n",
      "\n",
      "image 1/1 /kaggle/input/top-view-vehicle-detection-image-dataset/Vehicle_Detection_Image_Dataset/train/images/12_mp4-19_jpg.rf.f8f06d8f32d5f07d8ad929cd877f1149.jpg: 640x640 1 car, 1 train, 4.7ms\n",
      "Speed: 1.2ms preprocess, 4.7ms inference, 0.9ms postprocess per image at shape (1, 3, 640, 640)\n",
      "\n",
      "image 1/1 /kaggle/input/top-view-vehicle-detection-image-dataset/Vehicle_Detection_Image_Dataset/train/images/14_mp4-21_jpg.rf.94fca4d72973e2556751763078ded36a.jpg: 640x640 1 car, 5.0ms\n",
      "Speed: 1.2ms preprocess, 5.0ms inference, 0.9ms postprocess per image at shape (1, 3, 640, 640)\n",
      "\n",
      "image 1/1 /kaggle/input/top-view-vehicle-detection-image-dataset/Vehicle_Detection_Image_Dataset/train/images/5_mp4-10_jpg.rf.e7da8a551f88dbb7b06eba112bd55869.jpg: 640x640 20 cars, 1 truck, 4.8ms\n",
      "Speed: 1.2ms preprocess, 4.8ms inference, 1.0ms postprocess per image at shape (1, 3, 640, 640)\n",
      "\n",
      "image 1/1 /kaggle/input/top-view-vehicle-detection-image-dataset/Vehicle_Detection_Image_Dataset/train/images/12_mp4-13_jpg.rf.d7bd35455febcf89e018f6ec85db3502.jpg: 640x640 4 cars, 4.9ms\n",
      "Speed: 1.2ms preprocess, 4.9ms inference, 0.9ms postprocess per image at shape (1, 3, 640, 640)\n",
      "\n",
      "image 1/1 /kaggle/input/top-view-vehicle-detection-image-dataset/Vehicle_Detection_Image_Dataset/train/images/10_mp4-36_jpg.rf.a82ecfeefb23c88da241fce04c254075.jpg: 640x640 2 persons, 1 bicycle, 14 cars, 2 buss, 4.8ms\n",
      "Speed: 1.2ms preprocess, 4.8ms inference, 0.9ms postprocess per image at shape (1, 3, 640, 640)\n",
      "\n",
      "image 1/1 /kaggle/input/top-view-vehicle-detection-image-dataset/Vehicle_Detection_Image_Dataset/train/images/3_mp4-23_jpg.rf.1795ebf65f44c643262e9abc56d89104.jpg: 640x640 1 car, 5.3ms\n",
      "Speed: 1.2ms preprocess, 5.3ms inference, 0.9ms postprocess per image at shape (1, 3, 640, 640)\n",
      "\n",
      "image 1/1 /kaggle/input/top-view-vehicle-detection-image-dataset/Vehicle_Detection_Image_Dataset/train/images/8_mp4-23_jpg.rf.b925a3e8ca3197928e98d4a53af12f0d.jpg: 640x640 9 cars, 5.0ms\n",
      "Speed: 1.2ms preprocess, 5.0ms inference, 0.9ms postprocess per image at shape (1, 3, 640, 640)\n",
      "\n",
      "image 1/1 /kaggle/input/top-view-vehicle-detection-image-dataset/Vehicle_Detection_Image_Dataset/valid/images/12_mp4-24_jpg.rf.b5c9acb867e41055973828d5c43ed57e.jpg: 640x640 7 cars, 1 train, 4.7ms\n",
      "Speed: 1.2ms preprocess, 4.7ms inference, 0.9ms postprocess per image at shape (1, 3, 640, 640)\n",
      "\n",
      "image 1/1 /kaggle/input/top-view-vehicle-detection-image-dataset/Vehicle_Detection_Image_Dataset/valid/images/8_mp4-0_jpg.rf.3b2c1cfee1946594ca79d413e945d30a.jpg: 640x640 7 cars, 1 bus, 4.7ms\n",
      "Speed: 1.2ms preprocess, 4.7ms inference, 0.9ms postprocess per image at shape (1, 3, 640, 640)\n",
      "Route_1:Score = {'congestion_score': 26, 'risk_score': 125.42}\n",
      "Route_2:Score = {'congestion_score': 32, 'risk_score': 150.66}\n",
      "Route_3:Score = {'congestion_score': 41, 'risk_score': 191.26}\n"
     ]
    }
   ],
   "source": [
    "scores=get_scores_dynamic(model, dummy_routes, recommended_weights)\n",
    "# Display the scores\n",
    "for route, score in scores.items():\n",
    "    print(f\"{route}:Score = {score}\")"
   ]
  },
  {
   "cell_type": "code",
   "execution_count": 6,
   "metadata": {
    "execution": {
     "iopub.execute_input": "2025-04-19T06:42:31.584975Z",
     "iopub.status.busy": "2025-04-19T06:42:31.584707Z",
     "iopub.status.idle": "2025-04-19T06:42:31.933472Z",
     "shell.execute_reply": "2025-04-19T06:42:31.932696Z",
     "shell.execute_reply.started": "2025-04-19T06:42:31.584927Z"
    },
    "trusted": true
   },
   "outputs": [
    {
     "data": {
      "image/png": "[encoded data removed]",
      "text/plain": [
       "<Figure size 1200x600 with 1 Axes>"
      ]
     },
     "metadata": {},
     "output_type": "display_data"
    },
    {
     "name": "stdout",
     "output_type": "stream",
     "text": [
      "\n",
      "--- Adjusted A* Edge Weights ---\n",
      "('A', 'B'): 37.68\n",
      "('A', 'C'): 45.33\n",
      "('B', 'C'): 47.35\n"
     ]
    }
   ],
   "source": [
    "import matplotlib.pyplot as plt\n",
    "\n",
    "# # Sample output from get_scores_dynamic()\n",
    "# scores = {\n",
    "#     'Route_1': {'congestion_score': 15, 'risk_score': 20},\n",
    "#     'Route_2': {'congestion_score': 30, 'risk_score': 5},\n",
    "#     'Route_3': {'congestion_score': 25, 'risk_score': 15}\n",
    "# }\n",
    "\n",
    "# STEP 1: Combine scores using a weighted sum\n",
    "alpha = 1.0  # congestion weight\n",
    "beta = 2.0   # risk weight\n",
    "\n",
    "combined_scores = {}\n",
    "for route, data in scores.items():\n",
    "    combined = alpha * data['congestion_score'] + beta * data['risk_score']\n",
    "    combined_scores[route] = round(combined, 2)\n",
    "\n",
    "# STEP 2: Visualize results\n",
    "routes = list(combined_scores.keys())\n",
    "congestion_values = [scores[r]['congestion_score'] for r in routes]\n",
    "risk_values = [scores[r]['risk_score'] for r in routes]\n",
    "combined_values = [combined_scores[r] for r in routes]\n",
    "\n",
    "x = range(len(routes))\n",
    "bar_width = 0.25\n",
    "\n",
    "plt.figure(figsize=(12, 6))\n",
    "plt.bar(x, congestion_values, width=bar_width, label='Congestion Score')\n",
    "plt.bar([i + bar_width for i in x], risk_values, width=bar_width, label='Risk Score')\n",
    "plt.bar([i + 2*bar_width for i in x], combined_values, width=bar_width, label='Combined Score')\n",
    "plt.xlabel(\"Routes\")\n",
    "plt.ylabel(\"Score\")\n",
    "plt.title(\"Route Scores - Congestion vs Risk vs Combined\")\n",
    "plt.xticks([i + bar_width for i in x], routes)\n",
    "plt.legend()\n",
    "plt.grid(True)\n",
    "plt.tight_layout()\n",
    "plt.show()\n",
    "\n",
    "# STEP 3: Adjusted A* Edge Weights\n",
    "k = 0.1  # multiplier for combined score influence\n",
    "\n",
    "# Original edge weights\n",
    "edge_weights = {\n",
    "    ('A', 'B'): 10,\n",
    "    ('A', 'C'): 12,\n",
    "    ('B', 'C'): 5\n",
    "}\n",
    "\n",
    "# Map routes to edges\n",
    "route_map = {\n",
    "    'Route_1': ('A', 'B'),\n",
    "    'Route_2': ('A', 'C'),\n",
    "    'Route_3': ('B', 'C')\n",
    "}\n",
    "\n",
    "# Compute adjusted edge weights\n",
    "adjusted_edge_weights = {}\n",
    "for route, (src, dst) in route_map.items():\n",
    "    base_weight = edge_weights.get((src, dst), 0)\n",
    "    adjusted_weight = base_weight + k * combined_scores[route]\n",
    "    adjusted_edge_weights[(src, dst)] = round(adjusted_weight, 2)\n",
    "\n",
    "# Print final adjusted edge weights\n",
    "print(\"\\n--- Adjusted A* Edge Weights ---\")\n",
    "for edge, weight in adjusted_edge_weights.items():\n",
    "    print(f\"{edge}: {weight}\")\n"
   ]
  },
  {
   "cell_type": "markdown",
   "metadata": {},
   "source": [
    "# LLM"
   ]
  },
  {
   "cell_type": "code",
   "execution_count": 16,
   "metadata": {
    "execution": {
     "iopub.execute_input": "2025-04-19T06:59:55.048427Z",
     "iopub.status.busy": "2025-04-19T06:59:55.047567Z",
     "iopub.status.idle": "2025-04-19T07:00:03.546770Z",
     "shell.execute_reply": "2025-04-19T07:00:03.545670Z",
     "shell.execute_reply.started": "2025-04-19T06:59:55.048388Z"
    },
    "trusted": true
   },
   "outputs": [],
   "source": [
    "\n",
    "!pip install -U -q \"google-generativeai>=0.7.2\" # Install the Python SDK\n"
   ]
  },
  {
   "cell_type": "code",
   "execution_count": 17,
   "metadata": {
    "execution": {
     "iopub.execute_input": "2025-04-19T07:00:08.572471Z",
     "iopub.status.busy": "2025-04-19T07:00:08.571489Z",
     "iopub.status.idle": "2025-04-19T07:00:08.742345Z",
     "shell.execute_reply": "2025-04-19T07:00:08.741468Z",
     "shell.execute_reply.started": "2025-04-19T07:00:08.572434Z"
    },
    "trusted": true
   },
   "outputs": [],
   "source": [
    "from kaggle_secrets import UserSecretsClient\n",
    "user_secrets = UserSecretsClient()\n",
    "secret_value_0 = user_secrets.get_secret(\"geminiAPI\")"
   ]
  },
  {
   "cell_type": "code",
   "execution_count": 18,
   "metadata": {
    "execution": {
     "iopub.execute_input": "2025-04-19T07:00:10.708907Z",
     "iopub.status.busy": "2025-04-19T07:00:10.708306Z",
     "iopub.status.idle": "2025-04-19T07:00:10.713363Z",
     "shell.execute_reply": "2025-04-19T07:00:10.712507Z",
     "shell.execute_reply.started": "2025-04-19T07:00:10.708875Z"
    },
    "trusted": true
   },
   "outputs": [],
   "source": [
    "import os\n",
    "import google.generativeai as genai\n",
    "\n",
    "api_key = os.getenv(\"GOOGLE_API_KEY\")\n",
    "genai.configure(api_key=secret_value_0)"
   ]
  },
  {
   "cell_type": "code",
   "execution_count": 25,
   "metadata": {
    "execution": {
     "iopub.execute_input": "2025-04-19T07:09:13.750002Z",
     "iopub.status.busy": "2025-04-19T07:09:13.749253Z",
     "iopub.status.idle": "2025-04-19T07:09:13.757658Z",
     "shell.execute_reply": "2025-04-19T07:09:13.756639Z",
     "shell.execute_reply.started": "2025-04-19T07:09:13.749970Z"
    },
    "trusted": true
   },
   "outputs": [],
   "source": [
    "import google.generativeai as genai\n",
    "import json\n",
    "\n",
    "# 1. Set your Gemini API key securely\n",
    "# genai.configure(api_key=\"YOUR_GEMINI_API_KEY\")\n",
    "\n",
    "# 2. LLM Query Function (strict and reliable)\n",
    "def query_llm_for_route_context(route_id, score_data):\n",
    "    prompt = f\"\"\"\n",
    "You are a traffic analysis assistant. Here's route {route_id}:\n",
    "- Congestion Score: {score_data['congestion_score']}\n",
    "- Risk Score: {score_data['risk_score']}\n",
    "\n",
    "Only return a valid JSON object with no extra commentary But give details not just 1 line but follow format. Format:\n",
    "{{\n",
    "  \"risk_addon\": float, \n",
    "  \"reason\": str\n",
    "}}\n",
    "\n",
    "Example:\n",
    "{{\n",
    "  \"risk_addon\": 6.5,\n",
    "  \"reason\": \"Heavy congestion and frequent pedestrian activity.\"\n",
    "}}\n",
    "\"\"\"\n",
    "\n",
    "    model = genai.GenerativeModel(model_name=\"gemini-1.5-pro\")\n",
    "    response = model.generate_content(prompt)\n",
    "    response_text = response.text.strip()\n",
    "\n",
    "    try:\n",
    "        # Clean up formatting if it's wrapped in markdown\n",
    "        if \"```json\" in response_text:\n",
    "            response_text = response_text.split(\"```json\")[-1].split(\"```\")[0].strip()\n",
    "        elif \"```\" in response_text:\n",
    "            response_text = response_text.split(\"```\")[-1].strip()\n",
    "        \n",
    "        result = json.loads(response_text)\n",
    "    except Exception as e:\n",
    "        print(f\"⚠️ Failed to parse LLM response for {route_id}:\\n{response_text}\\nError: {e}\")\n",
    "        result = {\"risk_addon\": 0, \"reason\": \"Failed to parse Gemini response.\"}\n",
    "\n",
    "    return result\n",
    "\n",
    "# 3. Scoring Function with LLM + YOLO integration\n",
    "def rank_routes_from_scores(scores, alpha=1.0, beta=2.0, gamma=1.0):\n",
    "    final_scores = {}\n",
    "\n",
    "    for route, score_data in scores.items():\n",
    "        llm_info = query_llm_for_route_context(route, score_data)\n",
    "\n",
    "        final = (\n",
    "            alpha * score_data['congestion_score'] +\n",
    "            beta * score_data['risk_score'] +\n",
    "            gamma * llm_info['risk_addon']\n",
    "        )\n",
    "\n",
    "        final_scores[route] = {\n",
    "            \"adjusted_score\": round(final, 2),\n",
    "            \"llm_reason\": llm_info[\"reason\"]\n",
    "        }\n",
    "\n",
    "    return final_scores\n"
   ]
  },
  {
   "cell_type": "code",
   "execution_count": 26,
   "metadata": {
    "execution": {
     "iopub.execute_input": "2025-04-19T07:09:18.533772Z",
     "iopub.status.busy": "2025-04-19T07:09:18.532886Z",
     "iopub.status.idle": "2025-04-19T07:09:22.036558Z",
     "shell.execute_reply": "2025-04-19T07:09:22.035689Z",
     "shell.execute_reply.started": "2025-04-19T07:09:18.533742Z"
    },
    "trusted": true
   },
   "outputs": [
    {
     "name": "stdout",
     "output_type": "stream",
     "text": [
      "{\n",
      "  \"Route_1\": {\n",
      "    \"adjusted_score\": 277.84,\n",
      "    \"llm_reason\": \"Moderate congestion score indicates slightly elevated risk.\"\n",
      "  },\n",
      "  \"Route_2\": {\n",
      "    \"adjusted_score\": 348.32,\n",
      "    \"llm_reason\": \"Moderate congestion (congestion score 32) necessitates a moderate risk adder.\"\n",
      "  },\n",
      "  \"Route_3\": {\n",
      "    \"adjusted_score\": 435.52,\n",
      "    \"llm_reason\": \"Moderate congestion combined with a significantly elevated risk score suggests potential hazards such as road closures, accidents, or ongoing construction.\"\n",
      "  }\n",
      "}\n"
     ]
    }
   ],
   "source": [
    "ranked_scores = rank_routes_from_scores(scores)\n",
    "print(json.dumps(ranked_scores, indent=2))"
   ]
  },
  {
   "cell_type": "code",
   "execution_count": 27,
   "metadata": {
    "execution": {
     "iopub.execute_input": "2025-04-19T07:29:29.806813Z",
     "iopub.status.busy": "2025-04-19T07:29:29.805923Z",
     "iopub.status.idle": "2025-04-19T07:29:33.601578Z",
     "shell.execute_reply": "2025-04-19T07:29:33.600666Z",
     "shell.execute_reply.started": "2025-04-19T07:29:29.806781Z"
    },
    "trusted": true
   },
   "outputs": [
    {
     "name": "stdout",
     "output_type": "stream",
     "text": [
      "\n",
      "--- Updated A* Edge Weights with LLM Influence ---\n",
      "('A', 'B'): 37.93\n",
      "('A', 'C'): 46.83\n",
      "('B', 'C'): 48.55\n"
     ]
    }
   ],
   "source": [
    "# Example original edge weights from API or map\n",
    "edge_weights = {\n",
    "    ('A', 'B'): 10,\n",
    "    ('A', 'C'): 12,\n",
    "    ('B', 'C'): 5\n",
    "}\n",
    "\n",
    "# Map of routes to their respective edges\n",
    "route_to_edge_map = {\n",
    "    'Route_1': ('A', 'B'),\n",
    "    'Route_2': ('A', 'C'),\n",
    "    'Route_3': ('B', 'C')\n",
    "}\n",
    "\n",
    "# Assume this is the final_scores output from rank_routes_from_scores()\n",
    "# final_scores = {\n",
    "#     'Route_1': {'adjusted_score': 76.4, 'llm_reason': \"...\"},\n",
    "#     'Route_2': {'adjusted_score': 51.2, 'llm_reason': \"...\"},\n",
    "#     'Route_3': {'adjusted_score': 63.7, 'llm_reason': \"...\"}\n",
    "# }\n",
    "\n",
    "final_scores = rank_routes_from_scores(scores)\n",
    "\n",
    "# Weight modifier (how much adjusted score influences the edge cost)\n",
    "k = 0.1\n",
    "\n",
    "# Generate updated edge weights using adjusted_score\n",
    "adjusted_edge_weights = {}\n",
    "\n",
    "for route_id, (src, dst) in route_to_edge_map.items():\n",
    "    base = edge_weights.get((src, dst), 0)\n",
    "    addon = k * final_scores[route_id]['adjusted_score']\n",
    "    adjusted_edge_weights[(src, dst)] = round(base + addon, 2)\n",
    "\n",
    "# Print updated edge weights (for A* or routing logic)\n",
    "print(\"\\n--- Updated A* Edge Weights with LLM Influence ---\")\n",
    "for edge, weight in adjusted_edge_weights.items():\n",
    "    print(f\"{edge}: {weight}\")\n"
   ]
  }
 ],
 "metadata": {
  "kaggle": {
   "accelerator": "gpu",
   "dataSources": [
    {
     "datasetId": 4107330,
     "sourceId": 7166601,
     "sourceType": "datasetVersion"
    }
   ],
   "dockerImageVersionId": 30616,
   "isGpuEnabled": true,
   "isInternetEnabled": true,
   "language": "python",
   "sourceType": "notebook"
  },
  "kernelspec": {
   "display_name": "Python 3",
   "language": "python",
   "name": "python3"
  },
  "language_info": {
   "codemirror_mode": {
    "name": "ipython",
    "version": 3
   },
   "file_extension": ".py",
   "mimetype": "text/x-python",
   "name": "python",
   "nbconvert_exporter": "python",
   "pygments_lexer": "ipython3",
   "version": "3.13.2"
  },
  "papermill": {
   "default_parameters": {},
   "duration": 68.691048,
   "end_time": "2023-12-12T12:45:53.82776",
   "environment_variables": {},
   "exception": true,
   "input_path": "__notebook__.ipynb",
   "output_path": "__notebook__.ipynb",
   "parameters": {},
   "start_time": "2023-12-12T12:44:45.136712",
   "version": "2.4.0"
  }
 },
 "nbformat": 4,
 "nbformat_minor": 4
}
